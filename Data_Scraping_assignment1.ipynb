{
  "nbformat": 4,
  "nbformat_minor": 0,
  "metadata": {
    "colab": {
      "provenance": [],
      "authorship_tag": "ABX9TyNE+NFto95dHjL44vIj+pzF",
      "include_colab_link": true
    },
    "kernelspec": {
      "name": "python3",
      "display_name": "Python 3"
    },
    "language_info": {
      "name": "python"
    }
  },
  "cells": [
    {
      "cell_type": "markdown",
      "metadata": {
        "id": "view-in-github",
        "colab_type": "text"
      },
      "source": [
        "<a href=\"https://colab.research.google.com/github/JackiWanza/bank-of-flatiron/blob/main/Data_Scraping_assignment1.ipynb\" target=\"_parent\"><img src=\"https://colab.research.google.com/assets/colab-badge.svg\" alt=\"Open In Colab\"/></a>"
      ]
    },
    {
      "cell_type": "markdown",
      "source": [
        "**Web Scraping Assigment 1**"
      ],
      "metadata": {
        "id": "iTV6K_iv28hO"
      }
    },
    {
      "cell_type": "code",
      "source": [
        "#impoting the libraries\n",
        "from bs4 import BeautifulSoup\n",
        "import requests\n",
        "import pandas as pd"
      ],
      "metadata": {
        "id": "Fplp5EeH0jbf"
      },
      "execution_count": 2,
      "outputs": []
    },
    {
      "cell_type": "code",
      "source": [
        "#Specify the URL of the webpage you are scraping.\n",
        "#Set the url of the webpage in variable.\n",
        "URL = \"https://www.scrapethissite.com/pages/forms/\"\n",
        "r = requests.get(URL)\n",
        "\n",
        "#Decode the content and parse it using Beautifulsoup\n",
        "soup = BeautifulSoup(r.content, \"html.parser\")\n",
        "teams = soup.find_all('tr', class_='team')"
      ],
      "metadata": {
        "collapsed": true,
        "id": "Zq8sfifX3ok3"
      },
      "execution_count": 108,
      "outputs": []
    },
    {
      "cell_type": "code",
      "source": [
        "# Initialize an empty list to store the data for each team\n",
        "teams_data = []\n",
        "# Print header\n",
        "#print(f\"{'Team Name':<25} {'Year':<6} {'W':<4} {'L':<4} {'OT':<4} {'Win%':<6} {'GF':<4} {'GA':<4} {'+/-':<5}\")\n",
        "\n",
        "# Loop through teams and print each row formatted\n",
        "for team in teams:\n",
        "    #print(soup.prettify()[:1000])\n",
        "    name = team.find('td', class_='name').get_text(strip=True)\n",
        "    year = team.find('td', class_='year').get_text(strip=True)\n",
        "    wins = int(team.find('td', class_='wins').get_text(strip=True))\n",
        "    losses = int(team.find('td', class_='losses').get_text(strip=True))\n",
        "    ot_text = team.find('td', class_='ot-losses').get_text(strip=True)\n",
        "    OT = int(ot_text) if ot_text.isdigit() else 0\n",
        "    win_cell = team.find('td', class_='win-percent')\n",
        "    win_percent = float(win_cell.get_text(strip=True)) if win_cell else 0.0\n",
        "    GF = int(team.find('td', class_='gf').get_text(strip=True))\n",
        "    GA = int(team.find('td', class_='ga').get_text(strip=True))\n",
        "    goal_diff = int(team.find('td', class_='diff').get_text(strip=True))\n",
        "    #print(f\"{name:<25} {year:<6} {wins:<4} {losses:<4} {OT:<4} {win_percent:<6.2f} {GF:<4} {GA:<4} {goal_diff:<4}\")\n"
      ],
      "metadata": {
        "id": "RMEsTbhARLAE"
      },
      "execution_count": 112,
      "outputs": []
    },
    {
      "cell_type": "code",
      "source": [
        "teams_data.append({\n",
        "            'Name': name,\n",
        "            'Year': year,\n",
        "            'Wins': wins,\n",
        "            'Losses': losses,\n",
        "            'OT Losses': OT,\n",
        "            'Win %': win_percent,\n",
        "            'Goals For': GF,\n",
        "            'Goals Against': GA,\n",
        "            'Goal Diff': goal_diff\n",
        "        })"
      ],
      "metadata": {
        "id": "5wCI_h_lm0U5"
      },
      "execution_count": 133,
      "outputs": []
    },
    {
      "cell_type": "code",
      "source": [
        "df = pd.DataFrame(teams_data)\n",
        "df.to_csv(\"hockey_team_stats.csv\", index=False)\n",
        "#print(df)"
      ],
      "metadata": {
        "id": "sfP02wDF0xY1"
      },
      "execution_count": 138,
      "outputs": []
    }
  ]
}